{
 "cells": [
  {
   "cell_type": "code",
   "execution_count": 1,
   "id": "0ae12993",
   "metadata": {},
   "outputs": [],
   "source": [
    "import gradio as gr\n",
    "import pandas as pd\n",
    "import numpy as np"
   ]
  },
  {
   "cell_type": "code",
   "execution_count": 2,
   "id": "a65f8fc4",
   "metadata": {},
   "outputs": [],
   "source": [
    "import joblib\n",
    "model = joblib.load ('HDP.joblib')"
   ]
  },
  {
   "cell_type": "markdown",
   "id": "036b2606",
   "metadata": {},
   "source": [
    "\n",
    "# Building a Predictive System \n"
   ]
  },
  {
   "cell_type": "code",
   "execution_count": 3,
   "id": "0c7524ec",
   "metadata": {},
   "outputs": [],
   "source": [
    "def PredictiveSystem(Age, Sex, Chest_Pain_Type, Resting_Blood_Pressure, Cholestrol, Fasting_Blood_Sugar, Resting_ECG, Max_Heart_Rate, Exercise_Angina, OldPeak, Slope, Ca, Thal):\n",
    "    input_data = [Age, Sex, Chest_Pain_Type, Resting_Blood_Pressure, Cholestrol, Fasting_Blood_Sugar, Resting_ECG, Max_Heart_Rate, Exercise_Angina, OldPeak, Slope, Ca, Thal]\n",
    "    input_data1 = np.array([input_data])\n",
    "    #reshape numpy array (for only 1 data point)\n",
    "    input_data2 = input_data1.reshape(1,-1)\n",
    "\n",
    "    prediction = model.predict(input_data2)\n",
    "    result = prediction[0]\n",
    "\n",
    "    if(result==0):\n",
    "        return (\"The patient does not have a Heart Disease\")\n",
    "    else:\n",
    "        return (\"The patient has a Heart Disease\")\n"
   ]
  },
  {
   "cell_type": "markdown",
   "id": "487664f5",
   "metadata": {},
   "source": [
    "# Creating an Interface \n"
   ]
  },
  {
   "cell_type": "code",
   "execution_count": 4,
   "id": "ce5311d8",
   "metadata": {},
   "outputs": [],
   "source": [
    "out1 = gr.components.Textbox(label=\"Result\") \n",
    "interface = gr.Interface(fn = PredictiveSystem , \n",
    "                         inputs= [gr.components.Number(label=\"Age\"), gr.components.Number(label=\"Sex\"), gr.components.Number(label=\"Chest Pain Type\"),gr.components.Number(label=\"Resting Blood Pressure\"), gr.components.Number(label=\"Cholesterol\"), gr.components.Number(label=\"Fasting Blood Sugar\"), gr.components.Number(label=\"Resting ECG\"), gr.components.Number(label=\"Max Heart Rate\"), gr.components.Number(label=\"Exercise Induced Angina\"), gr.components.Number(label=\"OldPeak\"), gr.components.Number(label=\"Slope\"), gr.components.Number(label=\"CA\"), gr.components.Number(label=\"Thal\")], \n",
    "                         outputs=[out1],\n",
    "                         description = \"Enter the following details: \",\n",
    "                         title = \"Heart Disease Predictor\",\n",
    "                         examples =[[57,0,0,140,241,0,1,123,1,0.2,1,0,3,0],[37,1,2,130,250,0,1,187,0,3.5,0,0,2]],\n",
    "                         css= \" .gradio-container {background-color:#FFFFF7}\",\n",
    "                         theme = 'finlaymacklon/boxy_violet')"
   ]
  },
  {
   "cell_type": "code",
   "execution_count": null,
   "id": "b10e73b7",
   "metadata": {},
   "outputs": [
    {
     "name": "stdout",
     "output_type": "stream",
     "text": [
      "Running on local URL:  http://127.0.0.1:7860\n",
      "\n",
      "Could not create share link. Please check your internet connection or our status page: https://status.gradio.app. \n",
      "\n",
      "Also please ensure that your antivirus or firewall is not blocking the binary file located at: C:\\Users\\kritv\\AppData\\Roaming\\Python\\Python311\\site-packages\\gradio\\frpc_windows_amd64_v0.2\n"
     ]
    },
    {
     "data": {
      "text/html": [
       "<div><iframe src=\"http://127.0.0.1:7860/\" width=\"100%\" height=\"500\" allow=\"autoplay; camera; microphone; clipboard-read; clipboard-write;\" frameborder=\"0\" allowfullscreen></iframe></div>"
      ],
      "text/plain": [
       "<IPython.core.display.HTML object>"
      ]
     },
     "metadata": {},
     "output_type": "display_data"
    }
   ],
   "source": [
    "interface.launch(debug = True, share = True)\n"
   ]
  }
 ],
 "metadata": {
  "kernelspec": {
   "display_name": "Python 3 (ipykernel)",
   "language": "python",
   "name": "python3"
  },
  "language_info": {
   "codemirror_mode": {
    "name": "ipython",
    "version": 3
   },
   "file_extension": ".py",
   "mimetype": "text/x-python",
   "name": "python",
   "nbconvert_exporter": "python",
   "pygments_lexer": "ipython3",
   "version": "3.11.4"
  }
 },
 "nbformat": 4,
 "nbformat_minor": 5
}
